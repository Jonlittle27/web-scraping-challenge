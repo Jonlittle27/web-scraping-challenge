{
 "cells": [
  {
   "cell_type": "code",
   "execution_count": null,
   "metadata": {},
   "outputs": [],
   "source": [
    "#dependencies\n",
    "import pandas as pd\n",
    "from bs4 import BeautifulSoup\n",
    "import requests\n",
    "import pymongo\n",
    "from splinter import Browser"
   ]
  },
  {
   "cell_type": "code",
   "execution_count": null,
   "metadata": {},
   "outputs": [],
   "source": [
    "#url of page to be scraped\n",
    "url = \"https://mars.nasa.gov/news/\""
   ]
  },
  {
   "cell_type": "code",
   "execution_count": null,
   "metadata": {},
   "outputs": [],
   "source": [
    "# Retrieve page with the requests module\n",
    "response = requests.get(url)"
   ]
  },
  {
   "cell_type": "code",
   "execution_count": null,
   "metadata": {},
   "outputs": [],
   "source": [
    "# Create BeautifulSoup object; parse with 'html.parser'\n",
    "soup = BeautifulSoup(response.text, 'html.parser')"
   ]
  },
  {
   "cell_type": "code",
   "execution_count": null,
   "metadata": {},
   "outputs": [],
   "source": [
    "# Examine the results\n",
    "print(soup.prettify())"
   ]
  },
  {
   "cell_type": "code",
   "execution_count": null,
   "metadata": {},
   "outputs": [],
   "source": [
    "# results are returned as an iterable list\n",
    "results = soup.find('div', class_=\"slide\")\n",
    "\n",
    "# Identify and return title of article\n",
    "news_title = results.find('div', class_=\"content_title\").text\n",
    "# capturing the teaser text\n",
    "news_p = results.find('div', class_=\"rollover_description_inner\").text\n",
    "\n",
    "#printing to check results\n",
    "print(news_title)\n",
    "print(news_p)\n"
   ]
  },
  {
   "cell_type": "code",
   "execution_count": null,
   "metadata": {},
   "outputs": [],
   "source": [
    "#Setting up splinter\n",
    "executable_path = {'executable_path': 'chromedriver.exe'}\n",
    "browser = Browser('chrome', **executable_path, headless=False)\n",
    "\n",
    "url2 = 'https://www.jpl.nasa.gov/spaceimages/?search=&category=Mars'\n",
    "#visting the first vist and obtaining the soup\n",
    "browser.visit(url2)\n",
    "\n",
    "html = browser.html\n",
    "soup = BeautifulSoup(html, 'html.parser')\n",
    "\n",
    "#clicking the full image button to direct to the images page\n",
    "browser.click_link_by_partial_text('FULL IMAGE')\n",
    "html = browser.html\n",
    "soup = BeautifulSoup(html, 'html.parser')\n",
    "\n",
    "#clicking more info to direct to the article page\n",
    "browser.click_link_by_partial_text('more info')\n",
    "html = browser.html\n",
    "soup = BeautifulSoup(html, 'html.parser')\n",
    "\n",
    "#clicking the image to direct to the full size image page\n",
    "browser.click_link_by_partial_href('/spaceimages/images/largesize/')\n",
    "\n",
    "html = browser.html\n",
    "soup = BeautifulSoup(html, 'html.parser')\n",
    "\n",
    "featured_img_url = soup.find('img')\n",
    "featured_img_url = featured_img_url.get('src')\n",
    "\n",
    "print(featured_img_url)"
   ]
  },
  {
   "cell_type": "code",
   "execution_count": null,
   "metadata": {},
   "outputs": [],
   "source": [
    "#pandas scraping\n",
    "url3 = 'https://space-facts.com/mars/'\n",
    "\n",
    "tables = pd.read_html(url3)\n",
    "\n",
    "df = tables[0]\n",
    "\n",
    "table_html = df.to_html()\n",
    "\n",
    "print(table_html)"
   ]
  },
  {
   "cell_type": "code",
   "execution_count": null,
   "metadata": {},
   "outputs": [],
   "source": [
    "#scraping hemisphere links and titles\n",
    "url4 = 'https://astrogeology.usgs.gov/search/results?q=hemisphere+enhanced&k1=target&v1=Mars'\n",
    "\n",
    "#visting the intial site and obtaining the soup\n",
    "browser.visit(url4)\n",
    "\n",
    "html = browser.html\n",
    "soup = BeautifulSoup(html, 'html.parser')\n",
    "# #navigating to the cerberus site and scraping the data\n",
    "# browser.click_link_by_partial_href('/search/map/Mars/Viking/cerberus_enhanced')\n",
    "\n",
    "# html = browser.html\n",
    "# soup = BeautifulSoup(html, 'html.parser')\n",
    "\n",
    "results = soup.find_all('div','description')\n",
    "\n",
    "hemisphere_img_urls= []\n",
    "\n",
    "for result in results:\n",
    "    \n",
    "    try:\n",
    "         # Identify and return title of hemisphre\n",
    "        title = result.find('h3').text\n",
    "        # Identify and return link to hemisphere picture\n",
    "#         link = result.a['href']\n",
    "        \n",
    "        browser.visit(url4)\n",
    "        \n",
    "        browser.click_link_by_partial_text(title)\n",
    "        \n",
    "        html = browser.html\n",
    "        soup = BeautifulSoup(html, 'html.parser')\n",
    "        \n",
    "        img_url = soup.find('li')\n",
    "        img_url = img_url.a['href']\n",
    "        \n",
    "        title_dict = {'title': title}\n",
    "        img_dict = {'img_url': img_url}\n",
    "\n",
    "        if (title and img_url):\n",
    "            print('-------------')\n",
    "            print(title)\n",
    "            print(img_url)\n",
    "            hemisphere_img_urls.append(title_dict)\n",
    "            hemisphere_img_urls.append(img_dict)\n",
    "    except AttributeError as e:\n",
    "        print(e)\n",
    "\n",
    "\n",
    "\n",
    "    "
   ]
  },
  {
   "cell_type": "code",
   "execution_count": null,
   "metadata": {},
   "outputs": [],
   "source": [
    "hemisphere_img_url"
   ]
  }
 ],
 "metadata": {
  "kernelspec": {
   "display_name": "Python 3",
   "language": "python",
   "name": "python3"
  },
  "language_info": {
   "codemirror_mode": {
    "name": "ipython",
    "version": 3
   },
   "file_extension": ".py",
   "mimetype": "text/x-python",
   "name": "python",
   "nbconvert_exporter": "python",
   "pygments_lexer": "ipython3",
   "version": "3.6.10"
  }
 },
 "nbformat": 4,
 "nbformat_minor": 4
}
